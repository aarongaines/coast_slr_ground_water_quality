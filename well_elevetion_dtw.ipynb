{
 "cells": [
  {
   "cell_type": "code",
   "execution_count": 40,
   "metadata": {},
   "outputs": [],
   "source": [
    "import pandas as pd\n",
    "import urllib\n",
    "import os\n",
    "from pathlib import Path\n",
    "\n",
    "bp = Path(os.getcwd())\n",
    "dp = bp / 'data'\n",
    "sp = dp / 'DEM' / 'sandiego'"
   ]
  },
  {
   "cell_type": "code",
   "execution_count": 41,
   "metadata": {},
   "outputs": [
    {
     "data": {
      "text/plain": [
       "WindowsPath('e:/work/projects/coast_slr/scripts/slr_ground_water_quality_/data/DEM/sandiego')"
      ]
     },
     "execution_count": 41,
     "metadata": {},
     "output_type": "execute_result"
    }
   ],
   "source": [
    "sp"
   ]
  },
  {
   "cell_type": "code",
   "execution_count": 42,
   "metadata": {},
   "outputs": [],
   "source": [
    "# function to create folders and ignore if folder exists\n",
    "def mkdir_except(folder_name):\n",
    "\n",
    "    # try to make directory (folder_name), if it exists, ignore\n",
    "    try:\n",
    "        # create a directory and print the path\n",
    "        os.mkdir(folder_name)\n",
    "        print(\"Directory {} created\".format(folder_name))\n",
    "\n",
    "    except:\n",
    "        print(\"Directory {} already exists\".format(folder_name))"
   ]
  },
  {
   "cell_type": "code",
   "execution_count": 43,
   "metadata": {},
   "outputs": [],
   "source": [
    "# Defines a function for downloading a url to a path.\n",
    "def download_save_zip(url, folder_path):\n",
    "\n",
    "    # Create a filename from the passed url.\n",
    "    file_name = url.split('/')[-1]\n",
    "\n",
    "    # Create path to save file.\n",
    "    sp = folder_path / file_name\n",
    "\n",
    "    # Skips file if it exists and prints message.\n",
    "    if os.path.isfile(sp):\n",
    "        print(\"{} already downloaded \\n\".format(sp))\n",
    "\n",
    "    # Downloads file if it doesn't exist and prints message.\n",
    "    else:\n",
    "        # Tries to download file, if it fails, prints error message.\n",
    "        try:\n",
    "            # request url\n",
    "            req = urllib.request.urlopen(url)\n",
    "\n",
    "            # Checks if request is not a text file.\n",
    "            # If not it will download the file, otherwise it will print an error message.\n",
    "            # This if statement does not seem to be working and downloads regardless.\n",
    "            if not [i for i in req.getheaders() if 'text/html' in i]:\n",
    "                print('Downloading: {} '.format(url))\n",
    "                # Reads the request and saves it as a variable\n",
    "                data = req.read()\n",
    "                req.close()\n",
    "\n",
    "                # Saves the files to the specified path created above.\n",
    "                local = open(sp, 'wb')\n",
    "                local.write(data)\n",
    "                local.close()\n",
    "\n",
    "        except urllib.error.HTTPError:\n",
    "            print(\"HTTPError for {} \".format(url))\n",
    "\n",
    "        except urllib.error.URLError:\n",
    "            print(\"URLError for {} \".format(url))"
   ]
  },
  {
   "cell_type": "code",
   "execution_count": 44,
   "metadata": {},
   "outputs": [],
   "source": [
    "urlfile = open(r\"C:\\Users\\chief\\Downloads\\data(1).txt\", 'r')\n",
    "urls = urlfile.read()\n",
    "urls = urls.split('\\n')"
   ]
  },
  {
   "cell_type": "code",
   "execution_count": 45,
   "metadata": {},
   "outputs": [
    {
     "data": {
      "text/plain": [
       "['https://prd-tnm.s3.amazonaws.com/StagedProducts/Elevation/1m/Projects/CA_SanDiegoQL2_2014/TIFF/USGS_1m_x47y362_CA_SanDiegoQL2_2014.tif',\n",
       " 'https://prd-tnm.s3.amazonaws.com/StagedProducts/Elevation/1m/Projects/CA_SanDiegoQL2_2014/TIFF/USGS_1m_x47y363_CA_SanDiegoQL2_2014.tif',\n",
       " 'https://prd-tnm.s3.amazonaws.com/StagedProducts/Elevation/1m/Projects/CA_SanDiegoQL2_2014/TIFF/USGS_1m_x47y364_CA_SanDiegoQL2_2014.tif',\n",
       " 'https://prd-tnm.s3.amazonaws.com/StagedProducts/Elevation/1m/Projects/CA_SanDiegoQL2_2014/TIFF/USGS_1m_x47y365_CA_SanDiegoQL2_2014.tif',\n",
       " 'https://prd-tnm.s3.amazonaws.com/StagedProducts/Elevation/1m/Projects/CA_SanDiegoQL2_2014/TIFF/USGS_1m_x47y366_CA_SanDiegoQL2_2014.tif',\n",
       " 'https://prd-tnm.s3.amazonaws.com/StagedProducts/Elevation/1m/Projects/CA_SanDiegoQL1_2014/TIFF/USGS_one_meter_x48y360_CA_SanDiegoQL1_2014.tif',\n",
       " 'https://prd-tnm.s3.amazonaws.com/StagedProducts/Elevation/1m/Projects/CA_SanDiegoQL2_2014/TIFF/USGS_1m_x48y360_CA_SanDiegoQL2_2014.tif',\n",
       " 'https://prd-tnm.s3.amazonaws.com/StagedProducts/Elevation/1m/Projects/CA_SanDiegoQL1_2014/TIFF/USGS_one_meter_x48y361_CA_SanDiegoQL1_2014.tif',\n",
       " 'https://prd-tnm.s3.amazonaws.com/StagedProducts/Elevation/1m/Projects/CA_SanDiegoQL2_2014/TIFF/USGS_1m_x48y361_CA_SanDiegoQL2_2014.tif',\n",
       " 'https://prd-tnm.s3.amazonaws.com/StagedProducts/Elevation/1m/Projects/CA_SanDiegoQL1_2014/TIFF/USGS_one_meter_x48y362_CA_SanDiegoQL1_2014.tif',\n",
       " 'https://prd-tnm.s3.amazonaws.com/StagedProducts/Elevation/1m/Projects/CA_SanDiegoQL2_2014/TIFF/USGS_1m_x48y362_CA_SanDiegoQL2_2014.tif',\n",
       " 'https://prd-tnm.s3.amazonaws.com/StagedProducts/Elevation/1m/Projects/CA_SanDiegoQL2_2014/TIFF/USGS_1m_x48y363_CA_SanDiegoQL2_2014.tif',\n",
       " 'https://prd-tnm.s3.amazonaws.com/StagedProducts/Elevation/1m/Projects/CA_SanDiegoQL2_2014/TIFF/USGS_1m_x48y364_CA_SanDiegoQL2_2014.tif',\n",
       " 'https://prd-tnm.s3.amazonaws.com/StagedProducts/Elevation/1m/Projects/CA_SanDiegoQL2_2014/TIFF/USGS_1m_x48y365_CA_SanDiegoQL2_2014.tif',\n",
       " 'https://prd-tnm.s3.amazonaws.com/StagedProducts/Elevation/1m/Projects/CA_SanDiegoQL2_2014/TIFF/USGS_1m_x48y366_CA_SanDiegoQL2_2014.tif',\n",
       " 'https://prd-tnm.s3.amazonaws.com/StagedProducts/Elevation/1m/Projects/CA_SanDiegoQL2_2014/TIFF/USGS_1m_x48y367_CA_SanDiegoQL2_2014.tif',\n",
       " 'https://prd-tnm.s3.amazonaws.com/StagedProducts/Elevation/1m/Projects/CA_SanDiegoQL1_2014/TIFF/USGS_one_meter_x49y360_CA_SanDiegoQL1_2014.tif',\n",
       " 'https://prd-tnm.s3.amazonaws.com/StagedProducts/Elevation/1m/Projects/CA_SanDiegoQL2_2014/TIFF/USGS_1m_x49y360_CA_SanDiegoQL2_2014.tif',\n",
       " 'https://prd-tnm.s3.amazonaws.com/StagedProducts/Elevation/1m/Projects/CA_SanDiegoQL1_2014/TIFF/USGS_one_meter_x49y361_CA_SanDiegoQL1_2014.tif',\n",
       " 'https://prd-tnm.s3.amazonaws.com/StagedProducts/Elevation/1m/Projects/CA_SanDiegoQL2_2014/TIFF/USGS_1m_x49y361_CA_SanDiegoQL2_2014.tif',\n",
       " 'https://prd-tnm.s3.amazonaws.com/StagedProducts/Elevation/1m/Projects/CA_SanDiegoQL1_2014/TIFF/USGS_one_meter_x49y362_CA_SanDiegoQL1_2014.tif',\n",
       " 'https://prd-tnm.s3.amazonaws.com/StagedProducts/Elevation/1m/Projects/CA_SanDiegoQL2_2014/TIFF/USGS_1m_x49y362_CA_SanDiegoQL2_2014.tif',\n",
       " 'https://prd-tnm.s3.amazonaws.com/StagedProducts/Elevation/1m/Projects/CA_SanDiegoQL2_2014/TIFF/USGS_1m_x49y363_CA_SanDiegoQL2_2014.tif',\n",
       " 'https://prd-tnm.s3.amazonaws.com/StagedProducts/Elevation/1m/Projects/CA_SanDiegoQL2_2014/TIFF/USGS_1m_x49y364_CA_SanDiegoQL2_2014.tif',\n",
       " 'https://prd-tnm.s3.amazonaws.com/StagedProducts/Elevation/1m/Projects/CA_SanDiego_2015_C17_1/TIFF/USGS_1m_x49y365_CA_SanDiego_2015_C17_1.tif',\n",
       " 'https://prd-tnm.s3.amazonaws.com/StagedProducts/Elevation/1m/Projects/CA_SanDiegoCo_2016/TIFF/USGS_one_meter_x49y365_CA_SanDiegoCo_2016.tif',\n",
       " 'https://prd-tnm.s3.amazonaws.com/StagedProducts/Elevation/1m/Projects/CA_SanDiegoQL2_2014/TIFF/USGS_1m_x49y365_CA_SanDiegoQL2_2014.tif',\n",
       " 'https://prd-tnm.s3.amazonaws.com/StagedProducts/Elevation/1m/Projects/CA_SanDiego_2015_C17_1/TIFF/USGS_1m_x49y366_CA_SanDiego_2015_C17_1.tif',\n",
       " 'https://prd-tnm.s3.amazonaws.com/StagedProducts/Elevation/1m/Projects/CA_SanDiegoCo_2016/TIFF/USGS_one_meter_x49y366_CA_SanDiegoCo_2016.tif',\n",
       " 'https://prd-tnm.s3.amazonaws.com/StagedProducts/Elevation/1m/Projects/CA_SanDiegoQL2_2014/TIFF/USGS_1m_x49y366_CA_SanDiegoQL2_2014.tif',\n",
       " 'https://prd-tnm.s3.amazonaws.com/StagedProducts/Elevation/1m/Projects/CA_SanDiego_2015_C17_1/TIFF/USGS_1m_x49y367_CA_SanDiego_2015_C17_1.tif',\n",
       " 'https://prd-tnm.s3.amazonaws.com/StagedProducts/Elevation/1m/Projects/CA_SanDiegoCo_2016/TIFF/USGS_one_meter_x49y367_CA_SanDiegoCo_2016.tif',\n",
       " 'https://prd-tnm.s3.amazonaws.com/StagedProducts/Elevation/1m/Projects/CA_SanDiegoQL2_2014/TIFF/USGS_1m_x49y367_CA_SanDiegoQL2_2014.tif',\n",
       " 'https://prd-tnm.s3.amazonaws.com/StagedProducts/Elevation/1m/Projects/CA_SanDiego_2015_C17_1/TIFF/USGS_1m_x50y361_CA_SanDiego_2015_C17_1.tif',\n",
       " 'https://prd-tnm.s3.amazonaws.com/StagedProducts/Elevation/1m/Projects/CA_SanDiegoCo_2016/TIFF/USGS_one_meter_x50y361_CA_SanDiegoCo_2016.tif',\n",
       " 'https://prd-tnm.s3.amazonaws.com/StagedProducts/Elevation/1m/Projects/CA_SanDiegoQL2_2014/TIFF/USGS_1m_x50y361_CA_SanDiegoQL2_2014.tif',\n",
       " 'https://prd-tnm.s3.amazonaws.com/StagedProducts/Elevation/1m/Projects/CA_SanDiego_2015_C17_1/TIFF/USGS_1m_x50y362_CA_SanDiego_2015_C17_1.tif',\n",
       " 'https://prd-tnm.s3.amazonaws.com/StagedProducts/Elevation/1m/Projects/CA_SanDiegoCo_2016/TIFF/USGS_one_meter_x50y362_CA_SanDiegoCo_2016.tif',\n",
       " 'https://prd-tnm.s3.amazonaws.com/StagedProducts/Elevation/1m/Projects/CA_SanDiegoQL2_2014/TIFF/USGS_1m_x50y362_CA_SanDiegoQL2_2014.tif',\n",
       " 'https://prd-tnm.s3.amazonaws.com/StagedProducts/Elevation/1m/Projects/CA_SanDiegoQL2_2014/TIFF/USGS_1m_x50y363_CA_SanDiegoQL2_2014.tif',\n",
       " 'https://prd-tnm.s3.amazonaws.com/StagedProducts/Elevation/1m/Projects/CA_SanDiego_2015_C17_1/TIFF/USGS_1m_x50y364_CA_SanDiego_2015_C17_1.tif',\n",
       " 'https://prd-tnm.s3.amazonaws.com/StagedProducts/Elevation/1m/Projects/CA_SanDiegoCo_2016/TIFF/USGS_one_meter_x50y364_CA_SanDiegoCo_2016.tif',\n",
       " 'https://prd-tnm.s3.amazonaws.com/StagedProducts/Elevation/1m/Projects/CA_SanDiegoQL2_2014/TIFF/USGS_1m_x50y364_CA_SanDiegoQL2_2014.tif',\n",
       " 'https://prd-tnm.s3.amazonaws.com/StagedProducts/Elevation/1m/Projects/CA_SanDiego_2015_C17_1/TIFF/USGS_1m_x50y365_CA_SanDiego_2015_C17_1.tif',\n",
       " 'https://prd-tnm.s3.amazonaws.com/StagedProducts/Elevation/1m/Projects/CA_SanDiegoCo_2016/TIFF/USGS_one_meter_x50y365_CA_SanDiegoCo_2016.tif',\n",
       " 'https://prd-tnm.s3.amazonaws.com/StagedProducts/Elevation/1m/Projects/CA_SanDiegoQL2_2014/TIFF/USGS_1m_x50y365_CA_SanDiegoQL2_2014.tif',\n",
       " 'https://prd-tnm.s3.amazonaws.com/StagedProducts/Elevation/1m/Projects/CA_SanDiego_2015_C17_1/TIFF/USGS_1m_x50y366_CA_SanDiego_2015_C17_1.tif',\n",
       " 'https://prd-tnm.s3.amazonaws.com/StagedProducts/Elevation/1m/Projects/CA_SanDiegoCo_2016/TIFF/USGS_one_meter_x50y366_CA_SanDiegoCo_2016.tif',\n",
       " 'https://prd-tnm.s3.amazonaws.com/StagedProducts/Elevation/1m/Projects/CA_SanDiegoQL2_2014/TIFF/USGS_1m_x50y366_CA_SanDiegoQL2_2014.tif',\n",
       " 'https://prd-tnm.s3.amazonaws.com/StagedProducts/Elevation/1m/Projects/CA_SanDiego_2015_C17_1/TIFF/USGS_1m_x50y367_CA_SanDiego_2015_C17_1.tif',\n",
       " 'https://prd-tnm.s3.amazonaws.com/StagedProducts/Elevation/1m/Projects/CA_SanDiegoCo_2016/TIFF/USGS_one_meter_x50y367_CA_SanDiegoCo_2016.tif',\n",
       " 'https://prd-tnm.s3.amazonaws.com/StagedProducts/Elevation/1m/Projects/CA_SanDiegoQL2_2014/TIFF/USGS_1m_x50y367_CA_SanDiegoQL2_2014.tif',\n",
       " 'https://prd-tnm.s3.amazonaws.com/StagedProducts/Elevation/1m/Projects/CA_SanDiego_2015_C17_1/TIFF/USGS_1m_x51y361_CA_SanDiego_2015_C17_1.tif',\n",
       " 'https://prd-tnm.s3.amazonaws.com/StagedProducts/Elevation/1m/Projects/CA_SanDiegoCo_2016/TIFF/USGS_one_meter_x51y361_CA_SanDiegoCo_2016.tif',\n",
       " 'https://prd-tnm.s3.amazonaws.com/StagedProducts/Elevation/1m/Projects/CA_SanDiegoQL2_2014/TIFF/USGS_1m_x51y361_CA_SanDiegoQL2_2014.tif',\n",
       " 'https://prd-tnm.s3.amazonaws.com/StagedProducts/Elevation/1m/Projects/CA_SanDiego_2015_C17_1/TIFF/USGS_1m_x51y362_CA_SanDiego_2015_C17_1.tif',\n",
       " 'https://prd-tnm.s3.amazonaws.com/StagedProducts/Elevation/1m/Projects/CA_SanDiegoCo_2016/TIFF/USGS_one_meter_x51y362_CA_SanDiegoCo_2016.tif',\n",
       " 'https://prd-tnm.s3.amazonaws.com/StagedProducts/Elevation/1m/Projects/CA_SanDiegoQL2_2014/TIFF/USGS_1m_x51y362_CA_SanDiegoQL2_2014.tif',\n",
       " 'https://prd-tnm.s3.amazonaws.com/StagedProducts/Elevation/1m/Projects/CA_SanDiego_2015_C17_1/TIFF/USGS_1m_x51y363_CA_SanDiego_2015_C17_1.tif',\n",
       " 'https://prd-tnm.s3.amazonaws.com/StagedProducts/Elevation/1m/Projects/CA_SanDiegoCo_2016/TIFF/USGS_one_meter_x51y363_CA_SanDiegoCo_2016.tif',\n",
       " 'https://prd-tnm.s3.amazonaws.com/StagedProducts/Elevation/1m/Projects/CA_SanDiegoQL2_2014/TIFF/USGS_1m_x51y363_CA_SanDiegoQL2_2014.tif',\n",
       " 'https://prd-tnm.s3.amazonaws.com/StagedProducts/Elevation/1m/Projects/CA_SanDiego_2015_C17_1/TIFF/USGS_1m_x51y366_CA_SanDiego_2015_C17_1.tif',\n",
       " 'https://prd-tnm.s3.amazonaws.com/StagedProducts/Elevation/1m/Projects/CA_SanDiegoCo_2016/TIFF/USGS_one_meter_x51y366_CA_SanDiegoCo_2016.tif',\n",
       " 'https://prd-tnm.s3.amazonaws.com/StagedProducts/Elevation/1m/Projects/CA_SanDiego_2015_C17_1/TIFF/USGS_1m_x52y361_CA_SanDiego_2015_C17_1.tif',\n",
       " 'https://prd-tnm.s3.amazonaws.com/StagedProducts/Elevation/1m/Projects/CA_SanDiegoCo_2016/TIFF/USGS_one_meter_x52y361_CA_SanDiegoCo_2016.tif',\n",
       " 'https://prd-tnm.s3.amazonaws.com/StagedProducts/Elevation/1m/Projects/CA_SanDiego_2015_C17_1/TIFF/USGS_1m_x52y362_CA_SanDiego_2015_C17_1.tif',\n",
       " 'https://prd-tnm.s3.amazonaws.com/StagedProducts/Elevation/1m/Projects/CA_SanDiegoCo_2016/TIFF/USGS_one_meter_x52y362_CA_SanDiegoCo_2016.tif',\n",
       " 'https://prd-tnm.s3.amazonaws.com/StagedProducts/Elevation/1m/Projects/CA_SanDiego_2015_C17_1/TIFF/USGS_1m_x52y363_CA_SanDiego_2015_C17_1.tif',\n",
       " 'https://prd-tnm.s3.amazonaws.com/StagedProducts/Elevation/1m/Projects/CA_SanDiegoCo_2016/TIFF/USGS_one_meter_x52y363_CA_SanDiegoCo_2016.tif',\n",
       " 'https://prd-tnm.s3.amazonaws.com/StagedProducts/Elevation/1m/Projects/CA_SanDiego_2015_C17_1/TIFF/USGS_1m_x53y361_CA_SanDiego_2015_C17_1.tif',\n",
       " 'https://prd-tnm.s3.amazonaws.com/StagedProducts/Elevation/1m/Projects/CA_SanDiegoCo_2016/TIFF/USGS_one_meter_x53y361_CA_SanDiegoCo_2016.tif',\n",
       " 'https://prd-tnm.s3.amazonaws.com/StagedProducts/Elevation/1m/Projects/CA_SanDiego_2015_C17_1/TIFF/USGS_1m_x53y362_CA_SanDiego_2015_C17_1.tif',\n",
       " 'https://prd-tnm.s3.amazonaws.com/StagedProducts/Elevation/1m/Projects/CA_SanDiegoCo_2016/TIFF/USGS_one_meter_x53y362_CA_SanDiegoCo_2016.tif',\n",
       " 'https://prd-tnm.s3.amazonaws.com/StagedProducts/Elevation/1m/Projects/CA_SanDiego_2015_C17_1/TIFF/USGS_1m_x54y361_CA_SanDiego_2015_C17_1.tif',\n",
       " 'https://prd-tnm.s3.amazonaws.com/StagedProducts/Elevation/1m/Projects/CA_SanDiegoCo_2016/TIFF/USGS_one_meter_x54y361_CA_SanDiegoCo_2016.tif']"
      ]
     },
     "execution_count": 45,
     "metadata": {},
     "output_type": "execute_result"
    }
   ],
   "source": [
    "urls"
   ]
  },
  {
   "cell_type": "code",
   "execution_count": 46,
   "metadata": {},
   "outputs": [
    {
     "name": "stdout",
     "output_type": "stream",
     "text": [
      "Directory e:\\work\\projects\\coast_slr\\scripts\\slr_ground_water_quality_\\data\\DEM\\sandiego created\n",
      "Downloading: https://prd-tnm.s3.amazonaws.com/StagedProducts/Elevation/1m/Projects/CA_SanDiegoQL2_2014/TIFF/USGS_1m_x47y362_CA_SanDiegoQL2_2014.tif \n",
      "Downloading: https://prd-tnm.s3.amazonaws.com/StagedProducts/Elevation/1m/Projects/CA_SanDiegoQL2_2014/TIFF/USGS_1m_x47y363_CA_SanDiegoQL2_2014.tif \n",
      "Downloading: https://prd-tnm.s3.amazonaws.com/StagedProducts/Elevation/1m/Projects/CA_SanDiegoQL2_2014/TIFF/USGS_1m_x47y364_CA_SanDiegoQL2_2014.tif \n",
      "Downloading: https://prd-tnm.s3.amazonaws.com/StagedProducts/Elevation/1m/Projects/CA_SanDiegoQL2_2014/TIFF/USGS_1m_x47y365_CA_SanDiegoQL2_2014.tif \n",
      "Downloading: https://prd-tnm.s3.amazonaws.com/StagedProducts/Elevation/1m/Projects/CA_SanDiegoQL2_2014/TIFF/USGS_1m_x47y366_CA_SanDiegoQL2_2014.tif \n",
      "Downloading: https://prd-tnm.s3.amazonaws.com/StagedProducts/Elevation/1m/Projects/CA_SanDiegoQL1_2014/TIFF/USGS_one_meter_x48y360_CA_SanDiegoQL1_2014.tif \n",
      "Downloading: https://prd-tnm.s3.amazonaws.com/StagedProducts/Elevation/1m/Projects/CA_SanDiegoQL2_2014/TIFF/USGS_1m_x48y360_CA_SanDiegoQL2_2014.tif \n",
      "Downloading: https://prd-tnm.s3.amazonaws.com/StagedProducts/Elevation/1m/Projects/CA_SanDiegoQL1_2014/TIFF/USGS_one_meter_x48y361_CA_SanDiegoQL1_2014.tif \n",
      "Downloading: https://prd-tnm.s3.amazonaws.com/StagedProducts/Elevation/1m/Projects/CA_SanDiegoQL2_2014/TIFF/USGS_1m_x48y361_CA_SanDiegoQL2_2014.tif \n",
      "Downloading: https://prd-tnm.s3.amazonaws.com/StagedProducts/Elevation/1m/Projects/CA_SanDiegoQL1_2014/TIFF/USGS_one_meter_x48y362_CA_SanDiegoQL1_2014.tif \n",
      "Downloading: https://prd-tnm.s3.amazonaws.com/StagedProducts/Elevation/1m/Projects/CA_SanDiegoQL2_2014/TIFF/USGS_1m_x48y362_CA_SanDiegoQL2_2014.tif \n",
      "Downloading: https://prd-tnm.s3.amazonaws.com/StagedProducts/Elevation/1m/Projects/CA_SanDiegoQL2_2014/TIFF/USGS_1m_x48y363_CA_SanDiegoQL2_2014.tif \n",
      "Downloading: https://prd-tnm.s3.amazonaws.com/StagedProducts/Elevation/1m/Projects/CA_SanDiegoQL2_2014/TIFF/USGS_1m_x48y364_CA_SanDiegoQL2_2014.tif \n",
      "Downloading: https://prd-tnm.s3.amazonaws.com/StagedProducts/Elevation/1m/Projects/CA_SanDiegoQL2_2014/TIFF/USGS_1m_x48y365_CA_SanDiegoQL2_2014.tif \n",
      "Downloading: https://prd-tnm.s3.amazonaws.com/StagedProducts/Elevation/1m/Projects/CA_SanDiegoQL2_2014/TIFF/USGS_1m_x48y366_CA_SanDiegoQL2_2014.tif \n",
      "Downloading: https://prd-tnm.s3.amazonaws.com/StagedProducts/Elevation/1m/Projects/CA_SanDiegoQL2_2014/TIFF/USGS_1m_x48y367_CA_SanDiegoQL2_2014.tif \n",
      "Downloading: https://prd-tnm.s3.amazonaws.com/StagedProducts/Elevation/1m/Projects/CA_SanDiegoQL1_2014/TIFF/USGS_one_meter_x49y360_CA_SanDiegoQL1_2014.tif \n",
      "Downloading: https://prd-tnm.s3.amazonaws.com/StagedProducts/Elevation/1m/Projects/CA_SanDiegoQL2_2014/TIFF/USGS_1m_x49y360_CA_SanDiegoQL2_2014.tif \n",
      "Downloading: https://prd-tnm.s3.amazonaws.com/StagedProducts/Elevation/1m/Projects/CA_SanDiegoQL1_2014/TIFF/USGS_one_meter_x49y361_CA_SanDiegoQL1_2014.tif \n",
      "Downloading: https://prd-tnm.s3.amazonaws.com/StagedProducts/Elevation/1m/Projects/CA_SanDiegoQL2_2014/TIFF/USGS_1m_x49y361_CA_SanDiegoQL2_2014.tif \n",
      "Downloading: https://prd-tnm.s3.amazonaws.com/StagedProducts/Elevation/1m/Projects/CA_SanDiegoQL1_2014/TIFF/USGS_one_meter_x49y362_CA_SanDiegoQL1_2014.tif \n",
      "Downloading: https://prd-tnm.s3.amazonaws.com/StagedProducts/Elevation/1m/Projects/CA_SanDiegoQL2_2014/TIFF/USGS_1m_x49y362_CA_SanDiegoQL2_2014.tif \n",
      "Downloading: https://prd-tnm.s3.amazonaws.com/StagedProducts/Elevation/1m/Projects/CA_SanDiegoQL2_2014/TIFF/USGS_1m_x49y363_CA_SanDiegoQL2_2014.tif \n",
      "Downloading: https://prd-tnm.s3.amazonaws.com/StagedProducts/Elevation/1m/Projects/CA_SanDiegoQL2_2014/TIFF/USGS_1m_x49y364_CA_SanDiegoQL2_2014.tif \n",
      "Downloading: https://prd-tnm.s3.amazonaws.com/StagedProducts/Elevation/1m/Projects/CA_SanDiego_2015_C17_1/TIFF/USGS_1m_x49y365_CA_SanDiego_2015_C17_1.tif \n",
      "Downloading: https://prd-tnm.s3.amazonaws.com/StagedProducts/Elevation/1m/Projects/CA_SanDiegoCo_2016/TIFF/USGS_one_meter_x49y365_CA_SanDiegoCo_2016.tif \n",
      "Downloading: https://prd-tnm.s3.amazonaws.com/StagedProducts/Elevation/1m/Projects/CA_SanDiegoQL2_2014/TIFF/USGS_1m_x49y365_CA_SanDiegoQL2_2014.tif \n",
      "Downloading: https://prd-tnm.s3.amazonaws.com/StagedProducts/Elevation/1m/Projects/CA_SanDiego_2015_C17_1/TIFF/USGS_1m_x49y366_CA_SanDiego_2015_C17_1.tif \n",
      "Downloading: https://prd-tnm.s3.amazonaws.com/StagedProducts/Elevation/1m/Projects/CA_SanDiegoCo_2016/TIFF/USGS_one_meter_x49y366_CA_SanDiegoCo_2016.tif \n",
      "Downloading: https://prd-tnm.s3.amazonaws.com/StagedProducts/Elevation/1m/Projects/CA_SanDiegoQL2_2014/TIFF/USGS_1m_x49y366_CA_SanDiegoQL2_2014.tif \n",
      "Downloading: https://prd-tnm.s3.amazonaws.com/StagedProducts/Elevation/1m/Projects/CA_SanDiego_2015_C17_1/TIFF/USGS_1m_x49y367_CA_SanDiego_2015_C17_1.tif \n",
      "Downloading: https://prd-tnm.s3.amazonaws.com/StagedProducts/Elevation/1m/Projects/CA_SanDiegoCo_2016/TIFF/USGS_one_meter_x49y367_CA_SanDiegoCo_2016.tif \n",
      "Downloading: https://prd-tnm.s3.amazonaws.com/StagedProducts/Elevation/1m/Projects/CA_SanDiegoQL2_2014/TIFF/USGS_1m_x49y367_CA_SanDiegoQL2_2014.tif \n",
      "Downloading: https://prd-tnm.s3.amazonaws.com/StagedProducts/Elevation/1m/Projects/CA_SanDiego_2015_C17_1/TIFF/USGS_1m_x50y361_CA_SanDiego_2015_C17_1.tif \n",
      "Downloading: https://prd-tnm.s3.amazonaws.com/StagedProducts/Elevation/1m/Projects/CA_SanDiegoCo_2016/TIFF/USGS_one_meter_x50y361_CA_SanDiegoCo_2016.tif \n",
      "Downloading: https://prd-tnm.s3.amazonaws.com/StagedProducts/Elevation/1m/Projects/CA_SanDiegoQL2_2014/TIFF/USGS_1m_x50y361_CA_SanDiegoQL2_2014.tif \n",
      "Downloading: https://prd-tnm.s3.amazonaws.com/StagedProducts/Elevation/1m/Projects/CA_SanDiego_2015_C17_1/TIFF/USGS_1m_x50y362_CA_SanDiego_2015_C17_1.tif \n",
      "Downloading: https://prd-tnm.s3.amazonaws.com/StagedProducts/Elevation/1m/Projects/CA_SanDiegoCo_2016/TIFF/USGS_one_meter_x50y362_CA_SanDiegoCo_2016.tif \n",
      "Downloading: https://prd-tnm.s3.amazonaws.com/StagedProducts/Elevation/1m/Projects/CA_SanDiegoQL2_2014/TIFF/USGS_1m_x50y362_CA_SanDiegoQL2_2014.tif \n",
      "Downloading: https://prd-tnm.s3.amazonaws.com/StagedProducts/Elevation/1m/Projects/CA_SanDiegoQL2_2014/TIFF/USGS_1m_x50y363_CA_SanDiegoQL2_2014.tif \n",
      "Downloading: https://prd-tnm.s3.amazonaws.com/StagedProducts/Elevation/1m/Projects/CA_SanDiego_2015_C17_1/TIFF/USGS_1m_x50y364_CA_SanDiego_2015_C17_1.tif \n",
      "Downloading: https://prd-tnm.s3.amazonaws.com/StagedProducts/Elevation/1m/Projects/CA_SanDiegoCo_2016/TIFF/USGS_one_meter_x50y364_CA_SanDiegoCo_2016.tif \n",
      "Downloading: https://prd-tnm.s3.amazonaws.com/StagedProducts/Elevation/1m/Projects/CA_SanDiegoQL2_2014/TIFF/USGS_1m_x50y364_CA_SanDiegoQL2_2014.tif \n",
      "Downloading: https://prd-tnm.s3.amazonaws.com/StagedProducts/Elevation/1m/Projects/CA_SanDiego_2015_C17_1/TIFF/USGS_1m_x50y365_CA_SanDiego_2015_C17_1.tif \n",
      "Downloading: https://prd-tnm.s3.amazonaws.com/StagedProducts/Elevation/1m/Projects/CA_SanDiegoCo_2016/TIFF/USGS_one_meter_x50y365_CA_SanDiegoCo_2016.tif \n",
      "Downloading: https://prd-tnm.s3.amazonaws.com/StagedProducts/Elevation/1m/Projects/CA_SanDiegoQL2_2014/TIFF/USGS_1m_x50y365_CA_SanDiegoQL2_2014.tif \n",
      "Downloading: https://prd-tnm.s3.amazonaws.com/StagedProducts/Elevation/1m/Projects/CA_SanDiego_2015_C17_1/TIFF/USGS_1m_x50y366_CA_SanDiego_2015_C17_1.tif \n",
      "Downloading: https://prd-tnm.s3.amazonaws.com/StagedProducts/Elevation/1m/Projects/CA_SanDiegoCo_2016/TIFF/USGS_one_meter_x50y366_CA_SanDiegoCo_2016.tif \n",
      "Downloading: https://prd-tnm.s3.amazonaws.com/StagedProducts/Elevation/1m/Projects/CA_SanDiegoQL2_2014/TIFF/USGS_1m_x50y366_CA_SanDiegoQL2_2014.tif \n",
      "Downloading: https://prd-tnm.s3.amazonaws.com/StagedProducts/Elevation/1m/Projects/CA_SanDiego_2015_C17_1/TIFF/USGS_1m_x50y367_CA_SanDiego_2015_C17_1.tif \n",
      "Downloading: https://prd-tnm.s3.amazonaws.com/StagedProducts/Elevation/1m/Projects/CA_SanDiegoCo_2016/TIFF/USGS_one_meter_x50y367_CA_SanDiegoCo_2016.tif \n",
      "Downloading: https://prd-tnm.s3.amazonaws.com/StagedProducts/Elevation/1m/Projects/CA_SanDiegoQL2_2014/TIFF/USGS_1m_x50y367_CA_SanDiegoQL2_2014.tif \n",
      "Downloading: https://prd-tnm.s3.amazonaws.com/StagedProducts/Elevation/1m/Projects/CA_SanDiego_2015_C17_1/TIFF/USGS_1m_x51y361_CA_SanDiego_2015_C17_1.tif \n",
      "Downloading: https://prd-tnm.s3.amazonaws.com/StagedProducts/Elevation/1m/Projects/CA_SanDiegoCo_2016/TIFF/USGS_one_meter_x51y361_CA_SanDiegoCo_2016.tif \n",
      "Downloading: https://prd-tnm.s3.amazonaws.com/StagedProducts/Elevation/1m/Projects/CA_SanDiegoQL2_2014/TIFF/USGS_1m_x51y361_CA_SanDiegoQL2_2014.tif \n",
      "Downloading: https://prd-tnm.s3.amazonaws.com/StagedProducts/Elevation/1m/Projects/CA_SanDiego_2015_C17_1/TIFF/USGS_1m_x51y362_CA_SanDiego_2015_C17_1.tif \n",
      "Downloading: https://prd-tnm.s3.amazonaws.com/StagedProducts/Elevation/1m/Projects/CA_SanDiegoCo_2016/TIFF/USGS_one_meter_x51y362_CA_SanDiegoCo_2016.tif \n",
      "Downloading: https://prd-tnm.s3.amazonaws.com/StagedProducts/Elevation/1m/Projects/CA_SanDiegoQL2_2014/TIFF/USGS_1m_x51y362_CA_SanDiegoQL2_2014.tif \n",
      "Downloading: https://prd-tnm.s3.amazonaws.com/StagedProducts/Elevation/1m/Projects/CA_SanDiego_2015_C17_1/TIFF/USGS_1m_x51y363_CA_SanDiego_2015_C17_1.tif \n",
      "Downloading: https://prd-tnm.s3.amazonaws.com/StagedProducts/Elevation/1m/Projects/CA_SanDiegoCo_2016/TIFF/USGS_one_meter_x51y363_CA_SanDiegoCo_2016.tif \n",
      "Downloading: https://prd-tnm.s3.amazonaws.com/StagedProducts/Elevation/1m/Projects/CA_SanDiegoQL2_2014/TIFF/USGS_1m_x51y363_CA_SanDiegoQL2_2014.tif \n",
      "Downloading: https://prd-tnm.s3.amazonaws.com/StagedProducts/Elevation/1m/Projects/CA_SanDiego_2015_C17_1/TIFF/USGS_1m_x51y366_CA_SanDiego_2015_C17_1.tif \n",
      "Downloading: https://prd-tnm.s3.amazonaws.com/StagedProducts/Elevation/1m/Projects/CA_SanDiegoCo_2016/TIFF/USGS_one_meter_x51y366_CA_SanDiegoCo_2016.tif \n",
      "Downloading: https://prd-tnm.s3.amazonaws.com/StagedProducts/Elevation/1m/Projects/CA_SanDiego_2015_C17_1/TIFF/USGS_1m_x52y361_CA_SanDiego_2015_C17_1.tif \n",
      "Downloading: https://prd-tnm.s3.amazonaws.com/StagedProducts/Elevation/1m/Projects/CA_SanDiegoCo_2016/TIFF/USGS_one_meter_x52y361_CA_SanDiegoCo_2016.tif \n",
      "Downloading: https://prd-tnm.s3.amazonaws.com/StagedProducts/Elevation/1m/Projects/CA_SanDiego_2015_C17_1/TIFF/USGS_1m_x52y362_CA_SanDiego_2015_C17_1.tif \n",
      "Downloading: https://prd-tnm.s3.amazonaws.com/StagedProducts/Elevation/1m/Projects/CA_SanDiegoCo_2016/TIFF/USGS_one_meter_x52y362_CA_SanDiegoCo_2016.tif \n",
      "Downloading: https://prd-tnm.s3.amazonaws.com/StagedProducts/Elevation/1m/Projects/CA_SanDiego_2015_C17_1/TIFF/USGS_1m_x52y363_CA_SanDiego_2015_C17_1.tif \n",
      "Downloading: https://prd-tnm.s3.amazonaws.com/StagedProducts/Elevation/1m/Projects/CA_SanDiegoCo_2016/TIFF/USGS_one_meter_x52y363_CA_SanDiegoCo_2016.tif \n",
      "Downloading: https://prd-tnm.s3.amazonaws.com/StagedProducts/Elevation/1m/Projects/CA_SanDiego_2015_C17_1/TIFF/USGS_1m_x53y361_CA_SanDiego_2015_C17_1.tif \n",
      "Downloading: https://prd-tnm.s3.amazonaws.com/StagedProducts/Elevation/1m/Projects/CA_SanDiegoCo_2016/TIFF/USGS_one_meter_x53y361_CA_SanDiegoCo_2016.tif \n",
      "Downloading: https://prd-tnm.s3.amazonaws.com/StagedProducts/Elevation/1m/Projects/CA_SanDiego_2015_C17_1/TIFF/USGS_1m_x53y362_CA_SanDiego_2015_C17_1.tif \n",
      "Downloading: https://prd-tnm.s3.amazonaws.com/StagedProducts/Elevation/1m/Projects/CA_SanDiegoCo_2016/TIFF/USGS_one_meter_x53y362_CA_SanDiegoCo_2016.tif \n",
      "Downloading: https://prd-tnm.s3.amazonaws.com/StagedProducts/Elevation/1m/Projects/CA_SanDiego_2015_C17_1/TIFF/USGS_1m_x54y361_CA_SanDiego_2015_C17_1.tif \n",
      "Downloading: https://prd-tnm.s3.amazonaws.com/StagedProducts/Elevation/1m/Projects/CA_SanDiegoCo_2016/TIFF/USGS_one_meter_x54y361_CA_SanDiegoCo_2016.tif \n"
     ]
    }
   ],
   "source": [
    "mkdir_except(sp)\n",
    "for url in urls:\n",
    "    download_save_zip(url, sp)"
   ]
  }
 ],
 "metadata": {
  "kernelspec": {
   "display_name": "Python 3.9.13 ('geoprj')",
   "language": "python",
   "name": "python3"
  },
  "language_info": {
   "codemirror_mode": {
    "name": "ipython",
    "version": 3
   },
   "file_extension": ".py",
   "mimetype": "text/x-python",
   "name": "python",
   "nbconvert_exporter": "python",
   "pygments_lexer": "ipython3",
   "version": "3.9.13"
  },
  "orig_nbformat": 4,
  "vscode": {
   "interpreter": {
    "hash": "23234625f55973f7a58126a35d86facfdbb1213f4cf262be4a4984331c60271a"
   }
  }
 },
 "nbformat": 4,
 "nbformat_minor": 2
}
