{
 "cells": [
  {
   "cell_type": "code",
   "execution_count": null,
   "metadata": {},
   "outputs": [],
   "source": [
    "import pandas as pd\n",
    "import urllib\n",
    "import os\n",
    "from pathlib import Path\n",
    "\n",
    "bp = Path(os.getcwd())\n",
    "dp = bp / 'data'\n",
    "sp = dp / 'DEM' / 'sandiego'"
   ]
  },
  {
   "cell_type": "code",
   "execution_count": null,
   "metadata": {},
   "outputs": [],
   "source": [
    "# function to create folders and ignore if folder exists\n",
    "def mkdir_except(folder_name):\n",
    "\n",
    "    # try to make directory (folder_name), if it exists, ignore\n",
    "    try:\n",
    "        # create a directory and print the path\n",
    "        os.mkdir(folder_name)\n",
    "        print(\"Directory {} created\".format(folder_name))\n",
    "\n",
    "    except:\n",
    "        print(\"Directory {} already exists\".format(folder_name))"
   ]
  },
  {
   "cell_type": "code",
   "execution_count": null,
   "metadata": {},
   "outputs": [],
   "source": [
    "# Defines a function for downloading a url to a path.\n",
    "def download_save_zip(url, folder_path):\n",
    "\n",
    "    # Create a filename from the passed url.\n",
    "    file_name = url.split('/')[-1]\n",
    "\n",
    "    # Create path to save file.\n",
    "    sp = folder_path / file_name\n",
    "\n",
    "    # Skips file if it exists and prints message.\n",
    "    if os.path.isfile(sp):\n",
    "        print(\"{} already downloaded \\n\".format(sp))\n",
    "\n",
    "    # Downloads file if it doesn't exist and prints message.\n",
    "    else:\n",
    "        # Tries to download file, if it fails, prints error message.\n",
    "        try:\n",
    "            # request url\n",
    "            req = urllib.request.urlopen(url)\n",
    "\n",
    "            # Checks if request is not a text file.\n",
    "            # If not it will download the file, otherwise it will print an error message.\n",
    "            # This if statement does not seem to be working and downloads regardless.\n",
    "            if not [i for i in req.getheaders() if 'text/html' in i]:\n",
    "                print('Downloading: {} '.format(url))\n",
    "                # Reads the request and saves it as a variable\n",
    "                data = req.read()\n",
    "                req.close()\n",
    "\n",
    "                # Saves the files to the specified path created above.\n",
    "                local = open(sp, 'wb')\n",
    "                local.write(data)\n",
    "                local.close()\n",
    "\n",
    "        except urllib.error.HTTPError:\n",
    "            print(\"HTTPError for {} \".format(url))\n",
    "\n",
    "        except urllib.error.URLError:\n",
    "            print(\"URLError for {} \".format(url))"
   ]
  },
  {
   "cell_type": "code",
   "execution_count": null,
   "metadata": {},
   "outputs": [],
   "source": [
    "urlfile = open(r\"C:\\Users\\chief\\Downloads\\data(1).txt\", 'r')\n",
    "urls = urlfile.read()\n",
    "urls = urls.split('\\n')"
   ]
  },
  {
   "cell_type": "code",
   "execution_count": null,
   "metadata": {},
   "outputs": [],
   "source": [
    "urls"
   ]
  },
  {
   "cell_type": "code",
   "execution_count": null,
   "metadata": {},
   "outputs": [],
   "source": [
    "mkdir_except(sp)\n",
    "for url in urls:\n",
    "    download_save_zip(url, sp)"
   ]
  }
 ],
 "metadata": {
  "kernelspec": {
   "display_name": "Python 3.9.13 ('geoprj')",
   "language": "python",
   "name": "python3"
  },
  "language_info": {
   "codemirror_mode": {
    "name": "ipython",
    "version": 3
   },
   "file_extension": ".py",
   "mimetype": "text/x-python",
   "name": "python",
   "nbconvert_exporter": "python",
   "pygments_lexer": "ipython3",
   "version": "3.9.13"
  },
  "orig_nbformat": 4,
  "vscode": {
   "interpreter": {
    "hash": "23234625f55973f7a58126a35d86facfdbb1213f4cf262be4a4984331c60271a"
   }
  }
 },
 "nbformat": 4,
 "nbformat_minor": 2
}
