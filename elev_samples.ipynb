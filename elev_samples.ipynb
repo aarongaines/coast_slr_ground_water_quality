{
 "cells": [
  {
   "cell_type": "code",
   "execution_count": 1,
   "metadata": {},
   "outputs": [],
   "source": [
    "import os, pandas as pd, slr_pkg.clean_load_data as cld, slr_pkg.para as para\n",
    "from slr_pkg.clean_load_data import open_table\n",
    "from pathlib import Path"
   ]
  },
  {
   "cell_type": "code",
   "execution_count": 2,
   "metadata": {},
   "outputs": [],
   "source": [
    "# Get current working directory\n",
    "bp = Path(os.getcwd())\n",
    "\n",
    "# Set base data directory.\n",
    "dp  = bp / 'data'\n",
    "\n",
    "# Set sample data directory.\n",
    "edf_path = dp / 'geotracker_edf_results'\n",
    "gama_path = dp / 'gama_results'\n",
    "\n",
    "# Set location data directory.\n",
    "geo_xy_path = dp / 'geotracker_xy'\n",
    "gama_xy_path = dp / \"gama_xy\"\n",
    "xy_path = dp / 'xy'\n",
    "\n",
    "# Set results directory\n",
    "results_path = bp / \"results\"\n",
    "\n",
    "# Ask for county to gather data for.\n",
    "# area = input('Enter county: ')\n",
    "areas = ['Ventura', 'SanDiego', 'Kern', 'Imperial','SantaBarbara','LosAngeles']\n",
    "# areas = ['LosAngeles']"
   ]
  },
  {
   "cell_type": "code",
   "execution_count": 35,
   "metadata": {},
   "outputs": [
    {
     "name": "stdout",
     "output_type": "stream",
     "text": [
      "e:\\work\\projects\\coast_slr\\scripts\\slr_ground_water_quality_\\elevation \n",
      "\n",
      "Loading GAMA groundwater elevations. \n",
      "\n",
      "Loading Geotracker groundwater elevations. \n",
      "\n"
     ]
    }
   ],
   "source": [
    "### Depth to Water Data\n",
    "# Load GAMA dtw data\n",
    "# Create elev_path.\n",
    "elev_path = bp / 'elevation'\n",
    "print(elev_path, '\\n')\n",
    "\n",
    "# Dictionary of data types for gama_elev gama_elev for open_table().\n",
    "gama_elev_dtypes = {\n",
    "    'WELL NUMBER' : 'string',\n",
    "    'DEPTH TO WATER' : 'float64',\n",
    "    }\n",
    "\n",
    "# Date column of gama_elev gama_elev for open_table().\n",
    "gama_elev_date = ['MEASUREMENT DATE']\n",
    "\n",
    "# Columns of gama_elev gama_elev for open_table().\n",
    "gama_elev_cols = list(gama_elev_dtypes.keys()) + gama_elev_date\n",
    "\n",
    "\n",
    "print('Loading GAMA groundwater elevations. \\n')\n",
    "\n",
    "# create list of files to open\n",
    "gama_elev_files = elev_path.glob('**/*gama*.zip')\n",
    "gama_elev_files = list(gama_elev_files)\n",
    "\n",
    "# Use list comprehension to create a list of dataframes from the files list. Uses open_table() to open the files.\n",
    "gama_elev_list = [open_table(i,dtypes = gama_elev_dtypes,date_cols = gama_elev_date, cols =gama_elev_cols) for i in gama_elev_files]\n",
    "#print(gama_elev_list)\n",
    "\n",
    "# Concatenate the list of dataframes into one dataframe if there are more than one.\n",
    "if len(gama_elev_list) > 1:\n",
    "    gama_elev = pd.concat(gama_elev_list)\n",
    "\n",
    "else:\n",
    "    gama_elev = gama_elev_list[0]\n",
    "\n",
    "# Dict of attributes to rename.\n",
    "gama_geo_dict = {\n",
    "    'WELL NUMBER' : 'WID',\n",
    "    'DEPTH TO WATER' : 'DTW',\n",
    "    'MEASUREMENT DATE' : 'LOGDATE',\n",
    "}\n",
    "# Rename columns.\n",
    "gama_elev = gama_elev.rename(columns=gama_geo_dict)\n",
    "\n",
    "# Fix column formatting.\n",
    "# gama_elev['LOGDATE'] = gama_elev['LOGDATE'].astype(str)\n",
    "gama_elev['LOGDATE'] = pd.to_datetime(gama_elev['LOGDATE'].astype(str), errors='coerce', format='%Y-%m-%d')\n",
    "gama_elev['WID'] = gama_elev['WID'].str.replace(' ', '')\n",
    "\n",
    "# Create GID (group id) column. GID is the WID and LOGDATE concatenated.\n",
    "gama_elev['GID'] = list(zip(gama_elev['WID'], gama_elev['LOGDATE']))\n",
    "# Load Geotracker DTW data.\n",
    "# Dictionary of data types for geo_elev geo_elev for open_table().\n",
    "geo_elev_dtypes = {\n",
    "    'GLOBAL_ID' : 'string',\n",
    "    'FIELD_POINT_NAME' : 'string',\n",
    "    'DTW' : 'float64',\n",
    "    }\n",
    "\n",
    "# Date column of geo_elev geo_elev for open_table().\n",
    "geo_elev_date = ['GW_MEAS_DATE']\n",
    "\n",
    "# Columns of geo_elev geo_elev for open_table().\n",
    "geo_elev_cols = list(geo_elev_dtypes.keys()) + geo_elev_date\n",
    "\n",
    "print('Loading Geotracker groundwater elevations. \\n')\n",
    "\n",
    "# create list of files to open\n",
    "geo_elev_files = elev_path.glob('**/*Geo*.zip')\n",
    "geo_elev_files = list(geo_elev_files)\n",
    "\n",
    "\n",
    "# Use list comprehension to create a list of dataframes from the files list. Uses open_table() to open the files.\n",
    "geo_elev_list = [open_table(i,geo_elev_dtypes,date_cols= geo_elev_date,cols =geo_elev_cols) for i in geo_elev_files]\n",
    "\n",
    "# Concatenate the list of dataframes into one dataframe if there are more than one.\n",
    "if len(geo_elev_list) > 1:\n",
    "    geo_elev = pd.concat(geo_elev_list)\n",
    "\n",
    "else:\n",
    "    geo_elev = geo_elev_list[0]\n",
    "\n",
    "# Create WID column.\n",
    "geo_elev['WID'] = geo_elev['GLOBAL_ID'] + '-' + geo_elev['FIELD_POINT_NAME']\n",
    "\n",
    "# Drop unnecessary columns.\n",
    "geo_elev = geo_elev.drop(columns=['GLOBAL_ID', 'FIELD_POINT_NAME'])\n",
    "\n",
    "# fix column formatting.\n",
    "geo_elev['WID'] = geo_elev['WID'].str.replace(' ', '')\n",
    "\n",
    "# Rename columns.\n",
    "geo_elev = geo_elev.rename(columns={'GW_MEAS_DATE' : 'LOGDATE'})\n",
    "\n",
    "# Fix column formatting.\n",
    "geo_elev['LOGDATE'] = pd.to_datetime(geo_elev['LOGDATE'].astype(str), errors='coerce', format='%Y-%m-%d')\n",
    "#geo_elev['LOGDATE'] = geo_elev['LOGDATE'].astype(str)\n",
    "\n",
    "# Create GID (group id) column. GID is the WID and LOGDATE concatenated.\n",
    "geo_elev['GID'] = list(zip(geo_elev['WID'], geo_elev['LOGDATE']))"
   ]
  },
  {
   "cell_type": "code",
   "execution_count": 36,
   "metadata": {},
   "outputs": [],
   "source": [
    "# Concatenate gama_results and edf_results.\n",
    "dtw = pd.concat([geo_elev, gama_elev])\n",
    "dtw['dtw_units'] = 'ft'\n",
    "\n",
    "# List of columns that require a value.\n",
    "dtw_req_cols = ['WID','DTW','LOGDATE']\n",
    "\n",
    "# Drops rows with missing values in required columns.\n",
    "dtw = dtw.dropna(subset=dtw_req_cols)\n",
    "\n",
    "# Drop duplicate GID rows.\n",
    "dtw = dtw.drop_duplicates(subset=['GID'])"
   ]
  },
  {
   "cell_type": "code",
   "execution_count": 57,
   "metadata": {},
   "outputs": [
    {
     "name": "stdout",
     "output_type": "stream",
     "text": [
      "Index(['LOGDATE', 'PARLABEL', 'PARVAL', 'PARVQ', 'UNITS', 'WID', 'GID', 'SID',\n",
      "       'FIELD_PT_CLASS', 'LATITUDE_x', 'LONGITUDE_x', 'chem_name',\n",
      "       'comp_conc_val', 'exceedence', 'magnitude', 'OID_', 'FIELD_PT_C',\n",
      "       'LATITUDE_y', 'LONGITUDE_y', 'DEM_ELV'],\n",
      "      dtype='object')\n",
      "Index(['LOGDATE_x', 'PARLABEL', 'PARVAL', 'PARVQ', 'UNITS', 'WID_x', 'GID',\n",
      "       'SID', 'FIELD_PT_C', 'LATITUDE_x', 'LONGITUDE_x', 'chem_name',\n",
      "       'comp_conc_val', 'exceedence', 'magnitude', 'DEM_ELV', 'LOGDATE_y',\n",
      "       'DTW', 'WID_y', 'dtw_units'],\n",
      "      dtype='object')\n",
      "Index(['LOGDATE', 'PARLABEL', 'PARVAL', 'PARVQ', 'UNITS', 'WID', 'GID', 'SID',\n",
      "       'FIELD_PT_CLASS', 'LATITUDE_x', 'LONGITUDE_x', 'chem_name',\n",
      "       'comp_conc_val', 'exceedence', 'magnitude', 'OID_', 'FIELD_PT_C',\n",
      "       'LATITUDE_y', 'LONGITUDE_y', 'DEM_ELV'],\n",
      "      dtype='object')\n",
      "Index(['LOGDATE_x', 'PARLABEL', 'PARVAL', 'PARVQ', 'UNITS', 'WID_x', 'GID',\n",
      "       'SID', 'FIELD_PT_C', 'LATITUDE_x', 'LONGITUDE_x', 'chem_name',\n",
      "       'comp_conc_val', 'exceedence', 'magnitude', 'DEM_ELV', 'LOGDATE_y',\n",
      "       'DTW', 'WID_y', 'dtw_units'],\n",
      "      dtype='object')\n",
      "Index(['LOGDATE', 'PARLABEL', 'PARVAL', 'PARVQ', 'UNITS', 'WID', 'GID', 'SID',\n",
      "       'FIELD_PT_CLASS', 'LATITUDE_x', 'LONGITUDE_x', 'chem_name',\n",
      "       'comp_conc_val', 'exceedence', 'magnitude', 'OID_', 'FIELD_PT_C',\n",
      "       'LATITUDE_y', 'LONGITUDE_y', 'DEM_ELV'],\n",
      "      dtype='object')\n",
      "Index(['LOGDATE_x', 'PARLABEL', 'PARVAL', 'PARVQ', 'UNITS', 'WID_x', 'GID',\n",
      "       'SID', 'FIELD_PT_C', 'LATITUDE_x', 'LONGITUDE_x', 'chem_name',\n",
      "       'comp_conc_val', 'exceedence', 'magnitude', 'DEM_ELV', 'LOGDATE_y',\n",
      "       'DTW', 'WID_y', 'dtw_units'],\n",
      "      dtype='object')\n"
     ]
    }
   ],
   "source": [
    "#locs = pd.read_csv(xy_path / 'all_xy_elev.csv')\n",
    "c1 = ['LOGDATE', 'PARLABEL', 'PARVAL', 'PARVQ', 'UNITS', 'WID', 'GID',\n",
    "       'SID', 'FIELD_PT_C', 'LATITUDE_x', 'LONGITUDE_x', 'chem_name',\n",
    "       'comp_conc_val', 'exceedence', 'magnitude', 'DEM_ELV']\n",
    "\n",
    "c2 = ['LOGDATE_x', 'PARLABEL', 'PARVAL', 'PARVQ', 'UNITS', 'WID_x', 'GID',\n",
    "       'SID', 'FIELD_PT_C', 'LATITUDE_x', 'LONGITUDE_x', 'chem_name',\n",
    "       'comp_conc_val', 'exceedence', 'magnitude', 'DEM_ELV', 'DTW', 'dtw_units']\n",
    "\n",
    "c_dict = {\n",
    "    'LOGDATE_x' : 'LOGDATE',\n",
    "    'WID_x' : 'WID',\n",
    "    'LATITUDE_x' : 'LATITUDE',\n",
    "    'LONGITUDE_x' : 'LONGITUDE',\n",
    "}\n",
    "\n",
    "\n",
    "for area in areas:\n",
    "    samples = pd.read_csv(dp / '{}_clean_samples_elev.csv'.format(area))\n",
    "    print(samples.columns)\n",
    "    samples = samples[c1]\n",
    "    samples['LOGDATE'] = pd.to_datetime(samples['LOGDATE'].astype(str), errors='coerce', format='%Y-%m-%d')\n",
    "    samples['GID'] = list(zip(samples['WID'], samples['LOGDATE']))\n",
    "    samples['SID'] = list(zip(samples['GID'], samples['PARLABEL']))\n",
    "    samples = samples.merge(dtw, left_on='GID', right_on='GID', how='left')\n",
    "    print(samples.columns)\n",
    "    samples = samples[c2]\n",
    "    samples = samples.rename(columns=c_dict)\n",
    "    samples.to_csv(dp / '{}_clean_samples_elev_dtw.csv'.format(area), index=False)"
   ]
  },
  {
   "cell_type": "code",
   "execution_count": 7,
   "metadata": {},
   "outputs": [],
   "source": [
    "cols = ['LOGDATE', 'PARLABEL', 'PARVAL', 'PARVQ', 'UNITS', 'LATITUDE', 'LONGITUDE', 'chem_name', \n",
    " 'DEM_ELV', 'DTW', 'dtw_units']"
   ]
  },
  {
   "cell_type": "code",
   "execution_count": 3,
   "metadata": {},
   "outputs": [],
   "source": [
    "samples = pd.read_csv(dp / 'SanDiego_clean_samples_elev_dtw.csv')\n"
   ]
  },
  {
   "cell_type": "code",
   "execution_count": 10,
   "metadata": {},
   "outputs": [],
   "source": [
    "samples = samples[(samples['FIELD_PT_C'] == 'MW') | (samples['FIELD_PT_C'] == 'MONITORING')].copy()"
   ]
  },
  {
   "cell_type": "code",
   "execution_count": 11,
   "metadata": {},
   "outputs": [
    {
     "data": {
      "text/plain": [
       "array(['MW', 'MONITORING'], dtype=object)"
      ]
     },
     "execution_count": 11,
     "metadata": {},
     "output_type": "execute_result"
    }
   ],
   "source": [
    "samples['FIELD_PT_C'].unique()"
   ]
  },
  {
   "cell_type": "code",
   "execution_count": 12,
   "metadata": {},
   "outputs": [
    {
     "name": "stderr",
     "output_type": "stream",
     "text": [
      "c:\\Users\\chief\\.conda\\envs\\geoprj\\lib\\site-packages\\IPython\\core\\interactiveshell.py:3398: DtypeWarning: Columns (17) have mixed types.Specify dtype option on import or set low_memory=False.\n",
      "  exec(code_obj, self.user_global_ns, self.user_ns)\n"
     ]
    }
   ],
   "source": [
    "chems = para.conts11\n",
    "\n",
    "for area in areas:\n",
    "\n",
    "    samples = pd.read_csv(dp / '{}_clean_samples_elev_dtw.csv'.format(area))\n",
    "    samples.dropna(subset=['DTW'], inplace=True)\n",
    "    samples = samples[(samples['FIELD_PT_C'] == 'MW') | (samples['FIELD_PT_C'] == 'MONITORING')].copy()\n",
    "    samples = samples[samples.loc[:,'PARLABEL'].isin(chems)]\n",
    "    samples = samples[cols]\n",
    "\n",
    "    samples.to_csv(results_path / '{}_all_dtw_11.csv'.format(area), index=False)"
   ]
  },
  {
   "cell_type": "code",
   "execution_count": 73,
   "metadata": {},
   "outputs": [
    {
     "name": "stderr",
     "output_type": "stream",
     "text": [
      "c:\\Users\\chief\\.conda\\envs\\geoprj\\lib\\site-packages\\IPython\\core\\interactiveshell.py:3398: DtypeWarning: Columns (17) have mixed types.Specify dtype option on import or set low_memory=False.\n",
      "  exec(code_obj, self.user_global_ns, self.user_ns)\n"
     ]
    }
   ],
   "source": [
    "for area in areas:\n",
    "\n",
    "    # List of contaminants.\n",
    "    chems = para.conts11\n",
    "\n",
    "    samples = pd.read_csv(dp / '{}_clean_samples_elev_dtw.csv'.format(area))\n",
    "    # subset of specific samples meeting parameters.\n",
    "    spec_samples = samples.copy()\n",
    "    spec_samples.dropna(subset=['DTW'], inplace=True)\n",
    "\n",
    "    # Select spec_samples taken since 2012.\n",
    "    spec_samples = spec_samples.loc[spec_samples['LOGDATE'] >= '2012-01-01']\n",
    "\n",
    "    # Select samples with contaminants of interest.\n",
    "    spec_samples = spec_samples[spec_samples['PARLABEL'].isin(chems)]\n",
    "\n",
    "    # Create groups of spec_samples based on WID and PARLABEL(contaminant label).\n",
    "    sample_groups = spec_samples.groupby(['WID'])['PARLABEL'].apply(list).reset_index()\n",
    "\n",
    "    from collections import Counter\n",
    "\n",
    "\n",
    "    def select_wells(row):\n",
    "        wid = row['WID']\n",
    "        counter = Counter(row['PARLABEL'])\n",
    "        if len(counter) == len(chems):\n",
    "            if all(i >= 4 for i in counter.values()):\n",
    "                return  wid\n",
    "\n",
    "\n",
    "    # Create mask of sample groups meeting parameter requirements.\n",
    "    res = sample_groups.apply(select_wells, axis=1)\n",
    "\n",
    "    # Use mask to select sample results from wells that meet parameter requirements.\n",
    "    spec_samples = spec_samples[spec_samples['WID'].isin(res)]\n",
    "\n",
    "    spec_samples.to_csv(results_path / '{}_spec_dtw_11.csv'.format(area), index=False)"
   ]
  }
 ],
 "metadata": {
  "kernelspec": {
   "display_name": "Python 3.9.13 ('geoprj')",
   "language": "python",
   "name": "python3"
  },
  "language_info": {
   "codemirror_mode": {
    "name": "ipython",
    "version": 3
   },
   "file_extension": ".py",
   "mimetype": "text/x-python",
   "name": "python",
   "nbconvert_exporter": "python",
   "pygments_lexer": "ipython3",
   "version": "3.9.13"
  },
  "orig_nbformat": 4,
  "vscode": {
   "interpreter": {
    "hash": "23234625f55973f7a58126a35d86facfdbb1213f4cf262be4a4984331c60271a"
   }
  }
 },
 "nbformat": 4,
 "nbformat_minor": 2
}
