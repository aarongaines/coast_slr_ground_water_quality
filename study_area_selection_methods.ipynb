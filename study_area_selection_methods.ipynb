{
 "cells": [
  {
   "cell_type": "markdown",
   "metadata": {},
   "source": [
    "# Study Area Selection Methodology\n",
    "\n",
    "The goal of this methodology is to identify areas with groundwater more likely to experience contamination due to sea level rise. Location, status and type data for underground storage tanks (USTs) and cleanup sites across the state are used as indicators. This data is combined with the Befus model water table estimates and census block groups to identify potential study areas. It is assumed that groundwater in areas with more active USTs and cleanup sites are more likely experience groundwater contamination due to sea level rise. Census blocks are ranked by the number of USTs and cleanup sites within them. The top 25% of blocks are then filtered by the Befus water table depth estimates, keeping only census blocks estimated to have a water table depth of 5 meters or less. These block groups are filtered further, keeping only block groups within a disadvantaged community (DAC). The output of the methodology is a shapefile containing the census block groups with groundwater that is most likely to become contaminated due to sea level rise. Looking at data for the coast of California, we find that Oxnard and San Diego have DACs that are the most likely to have groundwater become contaminated by sea level rise."
   ]
  },
  {
   "cell_type": "markdown",
   "metadata": {},
   "source": [
    "## Download Data"
   ]
  },
  {
   "cell_type": "markdown",
   "metadata": {},
   "source": [
    "1. Underground Storage Tanks (USTs)\n",
    "\n",
    "    a. https://geotracker.waterboards.ca.gov/data_download/GeoTrackerPermittedUST.zip\n",
    "    \n",
    "    b. https://services.arcgis.com/cJ9YHowT8TU7DUyn/arcgis/rest/services/UST_Finder_Feature_Layer_2/FeatureServer/0\n",
    "\n",
    "2. Cleanup Sites\n",
    "\n",
    "    a. https://geotracker.waterboards.ca.gov/data_download/GeoTrackerDownload.zip\n",
    "\n",
    "3. Befus Water Table Depth\n",
    "    \n",
    "    a. https://www.sciencebase.gov/catalog/item/5bda1563e4b0b3fc5cec39b4\n",
    "\n",
    "4. SB 535 Disadvantaged Communities (CalEnviroScreen DACs)\n",
    "\n",
    "    a. https://services1.arcgis.com/PCHfdHz4GlDNAhBb/ArcGIS/rest/services/SB_535_Disadvantaged_Communities_2022/FeatureServer/0\n",
    "\n",
    "5. 2020 Census Block Groups\n",
    "\n",
    "    a. https://www2.census.gov/geo/tiger/TIGER2021/TABBLOCK20/tl_2021_06_tabblock20.zip"
   ]
  },
  {
   "cell_type": "markdown",
   "metadata": {},
   "source": [
    "## Pre-Process Data"
   ]
  },
  {
   "cell_type": "markdown",
   "metadata": {},
   "source": [
    "### USTs"
   ]
  },
  {
   "cell_type": "markdown",
   "metadata": {},
   "source": [
    "### Cleanup Sites"
   ]
  },
  {
   "cell_type": "markdown",
   "metadata": {},
   "source": [
    "### Befus Water Table Depth"
   ]
  },
  {
   "cell_type": "markdown",
   "metadata": {},
   "source": [
    "### SB 535 Disadvantaged Communities (CalEnviroScreen DACs)"
   ]
  },
  {
   "cell_type": "markdown",
   "metadata": {},
   "source": [
    "### 2020 Census Block Groups"
   ]
  },
  {
   "cell_type": "markdown",
   "metadata": {},
   "source": [
    "## Count USTs and Cleanup Sites"
   ]
  },
  {
   "cell_type": "markdown",
   "metadata": {},
   "source": [
    "### Join Indicators to Block Groups"
   ]
  },
  {
   "cell_type": "markdown",
   "metadata": {},
   "source": [
    "## Block Groups Spatial Selection"
   ]
  }
 ],
 "metadata": {
  "kernelspec": {
   "display_name": "Python 3.9.5 ('geoprj')",
   "language": "python",
   "name": "python3"
  },
  "language_info": {
   "codemirror_mode": {
    "name": "ipython",
    "version": 3
   },
   "file_extension": ".py",
   "mimetype": "text/x-python",
   "name": "python",
   "nbconvert_exporter": "python",
   "pygments_lexer": "ipython3",
   "version": "3.9.5"
  },
  "orig_nbformat": 4,
  "vscode": {
   "interpreter": {
    "hash": "23234625f55973f7a58126a35d86facfdbb1213f4cf262be4a4984331c60271a"
   }
  }
 },
 "nbformat": 4,
 "nbformat_minor": 2
}
