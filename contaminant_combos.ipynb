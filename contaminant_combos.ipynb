{
 "cells": [
  {
   "cell_type": "code",
   "execution_count": null,
   "metadata": {},
   "outputs": [],
   "source": [
    "import os, pandas as pd, slr_pkg.clean_load_data as cld, slr_pkg.para as para\n",
    "from itertools import combinations\n",
    "from collections import Counter\n",
    "from pathlib import Path\n",
    "\n",
    "\n",
    "# Get current working directory\n",
    "bp = Path(os.getcwd())\n",
    "\n",
    "# Set results directory\n",
    "results_path = bp / \"results\"\n",
    "\n",
    "# Set base data directory.\n",
    "dp  = bp / 'data'\n",
    "\n",
    "# Set sample data directory.\n",
    "edf_path = dp / 'geotracker_edf_results'\n",
    "gama_path = dp / 'gama_results'\n",
    "\n",
    "# Set location data directory.\n",
    "geo_xy_path = dp / 'geotracker_xy'\n",
    "gama_xy_path = dp / \"gama_xy\"\n",
    "\n",
    "# Ask for county to gather data for.\n",
    "# area = input('Enter county: ')\n",
    "area = 'Ventura'\n",
    "# areas = ['LosAngeles']"
   ]
  },
  {
   "cell_type": "code",
   "execution_count": null,
   "metadata": {},
   "outputs": [],
   "source": [
    "# List of contaminants.\n",
    "chems = para.conts11\n",
    "samples = pd.read_csv(dp / '{}_clean_samples.csv'.format(area))"
   ]
  },
  {
   "cell_type": "code",
   "execution_count": null,
   "metadata": {},
   "outputs": [],
   "source": [
    "samples"
   ]
  },
  {
   "cell_type": "code",
   "execution_count": null,
   "metadata": {},
   "outputs": [],
   "source": [
    "# subset of specific samples meeting parameters.\n",
    "spec_samples = samples.copy()\n",
    "\n",
    "# Select spec_samples taken since 2012.\n",
    "spec_samples = spec_samples.loc[spec_samples['LOGDATE'] >= '2012-01-01']\n",
    "\n",
    "# Select spec_samples with wells of \"monitoring well\" type.\n",
    "spec_samples = spec_samples[(spec_samples['FIELD_PT_CLASS'] == 'MW') | (spec_samples['FIELD_PT_CLASS'] == 'MONITORING')]\n",
    "\n",
    "# Select samples with contaminants of interest.\n",
    "spec_samples = spec_samples.loc[spec_samples['PARLABEL'].isin(chems)]\n",
    "\n",
    "counter = Counter(spec_samples['PARLABEL'])\n",
    "print(counter.most_common(5))"
   ]
  },
  {
   "cell_type": "code",
   "execution_count": null,
   "metadata": {},
   "outputs": [],
   "source": [
    "def select_wells(row, c):\n",
    "    wid = row['WID']\n",
    "    counter = Counter(row['PARLABEL'])\n",
    "    if len(counter) == len(c):\n",
    "        if all(i >= 4 for i in counter.values()):\n",
    "            return  wid"
   ]
  },
  {
   "cell_type": "code",
   "execution_count": null,
   "metadata": {},
   "outputs": [],
   "source": [
    "from collections import namedtuple\n",
    "\n",
    "result = namedtuple('result', 'wells samples')"
   ]
  },
  {
   "cell_type": "code",
   "execution_count": null,
   "metadata": {},
   "outputs": [],
   "source": [
    "c_dict = {}\n",
    "\n",
    "for i in range(4,12):\n",
    "    \n",
    "    c_list = combinations(chems, i)\n",
    "    c_list = list(c_list)\n",
    "\n",
    "    for c in c_list:\n",
    "        df = spec_samples[spec_samples['PARLABEL'].isin(c)].copy()\n",
    "        grp = df.groupby('WID')['PARLABEL'].apply(list).reset_index()\n",
    "        res = grp.apply(select_wells, axis=1, c=c)\n",
    "        res_samples = spec_samples[spec_samples['WID'].isin(res)].copy().reset_index(drop=True)\n",
    "        s = len(res_samples)\n",
    "        w = len(res_samples['WID'].unique())\n",
    "        c_dict[str(sorted(c))] = result(wells=w, samples=s)"
   ]
  },
  {
   "cell_type": "code",
   "execution_count": null,
   "metadata": {},
   "outputs": [],
   "source": [
    "cdf = pd.DataFrame.from_dict(c_dict, orient='index').reset_index().rename(columns={'index':'contaminants'})\n",
    "cdf['c_num'] = cdf['contaminants'].apply(lambda x: len(x.replace('[','').replace(']','').replace(\"'\",'').split(',')))\n",
    "cdf.sort_values(by='wells', ascending=False, inplace=True)\n",
    "cdf.reset_index(drop=True, inplace=True)"
   ]
  },
  {
   "cell_type": "code",
   "execution_count": null,
   "metadata": {},
   "outputs": [],
   "source": [
    "spec = 'MW'\n",
    "print('{}, {}: '.format(area, spec))\n",
    "print(cdf)"
   ]
  },
  {
   "cell_type": "code",
   "execution_count": null,
   "metadata": {},
   "outputs": [],
   "source": [
    "cdf.to_csv(results_path / '{}_MW_contaminant_combos.csv'.format(area))"
   ]
  },
  {
   "cell_type": "code",
   "execution_count": null,
   "metadata": {},
   "outputs": [],
   "source": [
    "gbo = cdf.groupby(['c_num'])[['wells','samples']].max()\n",
    "gbo.reset_index(inplace=True)"
   ]
  },
  {
   "cell_type": "code",
   "execution_count": null,
   "metadata": {},
   "outputs": [],
   "source": [
    "maxdf = pd.DataFrame()\n",
    "for row in gbo.iterrows():\n",
    "    c_num = row[1][0]\n",
    "    wells = row[1][1]\n",
    "    samples = row[1][2]\n",
    "    print(c_num, wells, samples)\n",
    "    res = cdf[(cdf['c_num'] == c_num) & (cdf['wells']==wells) &(cdf['samples']==samples)]\n",
    "    maxdf = maxdf.append(res)\n"
   ]
  },
  {
   "cell_type": "code",
   "execution_count": null,
   "metadata": {},
   "outputs": [],
   "source": [
    "maxdf.to_csv(results_path / '{}_{}_contaminant_combos_max.csv'.format(area, spec))"
   ]
  },
  {
   "cell_type": "code",
   "execution_count": null,
   "metadata": {},
   "outputs": [],
   "source": [
    "# Run above"
   ]
  },
  {
   "cell_type": "markdown",
   "metadata": {},
   "source": [
    "# Visualization"
   ]
  },
  {
   "cell_type": "code",
   "execution_count": null,
   "metadata": {},
   "outputs": [],
   "source": [
    "import matplotlib.pyplot as plt"
   ]
  },
  {
   "cell_type": "code",
   "execution_count": null,
   "metadata": {},
   "outputs": [],
   "source": [
    "a = c_dict.values()\n",
    "b = c_dict.keys()\n",
    "\n",
    "x = cdf['wells']\n",
    "y = cdf['samples']\n",
    "z = cdf['c_num']\n",
    "\n",
    "fig, ax1 = plt.subplots(figsize=(10,10), dpi=200)\n",
    "p1 =ax1.scatter(x, y, color='red')\n",
    "ax1.set(xlabel='Wells', ylabel='Samples', title='{}: Wells vs. Samples and Contaminants'.format(area))\n",
    "ax1.set_xlabel('Wells', fontsize=15)\n",
    "ax1.set_ylabel('Samples', fontsize=15)\n",
    "ax1.set_title('{}: Wells vs. Samples and Contaminants'.format(area), fontsize=20)\n",
    "ax1.grid()\n",
    "ax2 = ax1.twinx()\n",
    "p2 = ax2.scatter(x, z, marker='.', color='blue')\n",
    "ax2.set_ylabel('Contaminants', fontsize=15)\n",
    "ax2.invert_yaxis()\n",
    "ax1.legend(handles=[p1, p2], labels=['Samples', 'Contaminants'], loc='lower right')\n",
    "plt.savefig(results_path / '{}_{}_contaminant_combos.png'.format(area, spec))"
   ]
  },
  {
   "cell_type": "code",
   "execution_count": null,
   "metadata": {},
   "outputs": [],
   "source": [
    "cdf.groupby('c_num').max().to_csv(results_path / '{}_c_groups.csv'.format(area))"
   ]
  },
  {
   "cell_type": "code",
   "execution_count": null,
   "metadata": {},
   "outputs": [],
   "source": [
    "import matplotlib.pyplot as plt\n",
    "%matplotlib inline\n",
    "\n",
    "x = cdf['wells']\n",
    "y = cdf['samples']\n",
    "y2 = cdf['c_num']\n",
    "fig = plt.figure(figsize=(10,10))\n",
    "ax1 = plt.subplot()\n",
    "line1 = plt.scatter(x,y)\n",
    "ax1.grid(True)\n",
    "\n",
    "ax2 = ax1.twinx()\n",
    "line2 = ax2.scatter(x, y2, color='green')\n",
    "ax2.tick_params(axis='y', labelcolor='green')\n",
    "\n",
    "annots = []\n",
    "for ax in [ax1, ax2]:\n",
    "    annot = ax.annotate(\"\", xy=(0,0), xytext=(-20,20),textcoords=\"offset points\",\n",
    "                        bbox=dict(boxstyle=\"round\", fc=\"w\", alpha=0.4),\n",
    "                        arrowprops=dict(arrowstyle=\"->\"))\n",
    "    annot.set_visible(False)\n",
    "    annots.append(annot)\n",
    "\n",
    "annot_dic = dict(zip([ax1, ax2], annots))\n",
    "line_dic = dict(zip([ax1, ax2], [line1, line2]))\n",
    "\n",
    "def update_annot(line, annot, ind):\n",
    "    x,y = line.get_data()\n",
    "    annot.xy = (x[ind[\"ind\"][0]], y[ind[\"ind\"][0]])\n",
    "    text = \"x = {}\\ny= {}\".format(x[ind[\"ind\"][0]], y[ind[\"ind\"][0]])\n",
    "    annot.set_text(text)\n",
    "\n",
    "def hover(event):\n",
    "\n",
    "    if event.inaxes in [ax1, ax2]:\n",
    "        for ax in [ax1, ax2]:\n",
    "            cont, ind = line_dic[ax].contains(event)\n",
    "            annot = annot_dic[ax]\n",
    "            if cont:\n",
    "                update_annot(line_dic[ax], annot, ind)\n",
    "                annot.set_visible(True)\n",
    "                fig.canvas.draw_idle()\n",
    "            else:\n",
    "                if annot.get_visible():\n",
    "                    annot.set_visible(False)\n",
    "                    fig.canvas.draw_idle()\n",
    "\n",
    "fig.canvas.mpl_connect(\"motion_notify_event\", hover)\n",
    "\n",
    "plt.show()"
   ]
  }
 ],
 "metadata": {
  "kernelspec": {
   "display_name": "Python 3.9.13 ('geoprj')",
   "language": "python",
   "name": "python3"
  },
  "language_info": {
   "codemirror_mode": {
    "name": "ipython",
    "version": 3
   },
   "file_extension": ".py",
   "mimetype": "text/x-python",
   "name": "python",
   "nbconvert_exporter": "python",
   "pygments_lexer": "ipython3",
   "version": "3.9.13"
  },
  "orig_nbformat": 4,
  "vscode": {
   "interpreter": {
    "hash": "23234625f55973f7a58126a35d86facfdbb1213f4cf262be4a4984331c60271a"
   }
  }
 },
 "nbformat": 4,
 "nbformat_minor": 2
}
