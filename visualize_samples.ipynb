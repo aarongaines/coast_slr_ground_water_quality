{
 "cells": [
  {
   "cell_type": "code",
   "execution_count": 5,
   "metadata": {},
   "outputs": [],
   "source": [
    "import pandas as pd\n",
    "import os\n",
    "import slr_pkg.clean_load_data as cld\n",
    "import slr_pkg.para as para\n",
    "from pathlib import Path\n",
    "\n",
    "# Get current working directory\n",
    "bp = Path(os.getcwd())\n",
    "\n",
    "# Set base data directory.\n",
    "dp = bp / 'data'\n",
    "\n",
    "# Set sample data directory.\n",
    "edf_path = dp / 'geotracker_edf_results'\n",
    "gama_path = dp / 'gama_results'\n",
    "\n",
    "# Set location data directory.\n",
    "geo_xy_path = dp / 'geotracker_xy'\n",
    "gama_xy_path = dp / \"gama_xy\"\n",
    "\n",
    "# Set results directory\n",
    "results_path = dp / \"results\"\n",
    "\n",
    "# Create path to mcl table.\n",
    "mcl_path = dp / 'MCLs.xlsx'\n",
    "\n",
    "# Ask for county to gather data for.\n",
    "# area = input('Enter county: ')\n",
    "area = 'Kern'\n",
    "\n",
    "# List of contaminants.\n",
    "chems = para.conts11"
   ]
  },
  {
   "cell_type": "code",
   "execution_count": 6,
   "metadata": {},
   "outputs": [],
   "source": [
    "# areas = ['Ventura','SanDiego', 'Kern', 'Imperial','SantaBarbara', 'LosAngeles']\n",
    "area = 'Kern'\n",
    "\n",
    "# List of contaminants.\n",
    "chems = para.conts11"
   ]
  },
  {
   "cell_type": "code",
   "execution_count": 7,
   "metadata": {},
   "outputs": [
    {
     "name": "stdout",
     "output_type": "stream",
     "text": [
      "Loading Geotracker file: e:\\work\\projects\\coast_slr\\scripts\\slr_ground_water_quality_\\data\\geotracker_edf_results\\KernEDF.zip \n",
      "Loading GAMA file: e:\\work\\projects\\coast_slr\\scripts\\slr_ground_water_quality_\\data\\gama_results\\gama_ddw_kern_v2.zip \n",
      "Loading GAMA file: e:\\work\\projects\\coast_slr\\scripts\\slr_ground_water_quality_\\data\\gama_results\\gama_dpr_kern_v2.zip \n",
      "Loading GAMA file: e:\\work\\projects\\coast_slr\\scripts\\slr_ground_water_quality_\\data\\gama_results\\gama_dwr_kern_v2.zip \n",
      "Loading GAMA file: e:\\work\\projects\\coast_slr\\scripts\\slr_ground_water_quality_\\data\\gama_results\\gama_gama_sp-study_kern_v2.zip \n",
      "Loading GAMA file: e:\\work\\projects\\coast_slr\\scripts\\slr_ground_water_quality_\\data\\gama_results\\gama_gama_usgs_kern_v2.zip \n",
      "Loading GAMA file: e:\\work\\projects\\coast_slr\\scripts\\slr_ground_water_quality_\\data\\gama_results\\gama_localgw_kern_v2.zip \n",
      "Loading GAMA file: e:\\work\\projects\\coast_slr\\scripts\\slr_ground_water_quality_\\data\\gama_results\\gama_usgs_nwis_kern_v2.zip \n",
      "Loading GAMA file: e:\\work\\projects\\coast_slr\\scripts\\slr_ground_water_quality_\\data\\gama_results\\gama_wb_cleanup_kern_v2.zip \n",
      "Loading GAMA file: e:\\work\\projects\\coast_slr\\scripts\\slr_ground_water_quality_\\data\\gama_results\\gama_wb_ilrp_kern_v2.zip \n",
      "Concatenating GAMA and Geotracker dataframes...\n",
      "Checking for missing values... \n",
      "Creating group ID (GID)... \n",
      "Creating sample ID (SID)... \n",
      "Sorting samples... \n",
      "Dropping duplicate samples... \n",
      "\n",
      "           LOGDATE  PARLABEL       PARVAL PARVQ        REPDL  UNITS  \\\n",
      "0       2016-03-28       DRO  950000000.0     =   30000000.0   UG/L   \n",
      "1       2010-10-28  GASOLINE  770000000.0     =    3500000.0  UG/M3   \n",
      "2       2018-06-01       DRO  640000000.0     =     620000.0   UG/L   \n",
      "3       2011-08-04  TPHC4C12  580000000.0     =   50000000.0   PPBV   \n",
      "4       2006-12-15  GASOLINE  320000000.0     =  100000000.0   UG/L   \n",
      "...            ...       ...          ...   ...          ...    ...   \n",
      "2629658 2021-08-12     ALPHA      -1498.0     =       1888.0  PCI/L   \n",
      "2629659 2021-10-05     KR-85      -1505.9     =       1796.0  PCI/L   \n",
      "2629660 2019-11-05     KR-85      -1908.2    ND       3401.0  PCI/L   \n",
      "2629661 2021-10-11     ALPHA      -2090.0     =       2330.0  PCI/L   \n",
      "2629662 2021-06-07     ALPHA      -2310.0     =       1981.0  pCi/L   \n",
      "\n",
      "                            WID  \\\n",
      "0             T0602902377-DPW-1   \n",
      "1            T10000000635-SVPS1   \n",
      "2              T0602902377-MW-3   \n",
      "3            T10000000635-SVPS1   \n",
      "4              T0602900614-MW-1   \n",
      "...                         ...   \n",
      "2629658   L10001705200-HOPKINSA   \n",
      "2629659    T10000007744-EFF-002   \n",
      "2629660    T10000007744-RGW-6P1   \n",
      "2629661  L10004955136-EFFLU002A   \n",
      "2629662      GAOG10009209-MW-S3   \n",
      "\n",
      "                                                   GID  \\\n",
      "0             (T0602902377-DPW-1, 2016-03-28 00:00:00)   \n",
      "1            (T10000000635-SVPS1, 2010-10-28 00:00:00)   \n",
      "2              (T0602902377-MW-3, 2018-06-01 00:00:00)   \n",
      "3            (T10000000635-SVPS1, 2011-08-04 00:00:00)   \n",
      "4              (T0602900614-MW-1, 2006-12-15 00:00:00)   \n",
      "...                                                ...   \n",
      "2629658   (L10001705200-HOPKINSA, 2021-08-12 00:00:00)   \n",
      "2629659    (T10000007744-EFF-002, 2021-10-05 00:00:00)   \n",
      "2629660    (T10000007744-RGW-6P1, 2019-11-05 00:00:00)   \n",
      "2629661  (L10004955136-EFFLU002A, 2021-10-11 00:00:00)   \n",
      "2629662      (GAOG10009209-MW-S3, 2021-06-07 00:00:00)   \n",
      "\n",
      "                                                       SID  \n",
      "0          ((T0602902377-DPW-1, 2016-03-28 00:00:00), DRO)  \n",
      "1        ((T10000000635-SVPS1, 2010-10-28 00:00:00), GA...  \n",
      "2           ((T0602902377-MW-3, 2018-06-01 00:00:00), DRO)  \n",
      "3        ((T10000000635-SVPS1, 2011-08-04 00:00:00), TP...  \n",
      "4        ((T0602900614-MW-1, 2006-12-15 00:00:00), GASO...  \n",
      "...                                                    ...  \n",
      "2629658  ((L10001705200-HOPKINSA, 2021-08-12 00:00:00),...  \n",
      "2629659  ((T10000007744-EFF-002, 2021-10-05 00:00:00), ...  \n",
      "2629660  ((T10000007744-RGW-6P1, 2019-11-05 00:00:00), ...  \n",
      "2629661  ((L10004955136-EFFLU002A, 2021-10-11 00:00:00)...  \n",
      "2629662  ((GAOG10009209-MW-S3, 2021-06-07 00:00:00), AL...  \n",
      "\n",
      "[2629663 rows x 9 columns]\n",
      "Unique Sample IDs (SIDs): 2629663\n"
     ]
    }
   ],
   "source": [
    "edf_files = edf_path.glob('**/*{}*.zip'.format(area))\n",
    "gama_files = gama_path.glob('**/*{}*.zip'.format(area.lower()))\n",
    "\n",
    "samples = cld.Sample_Data.full_dataset(edf_files, gama_files)\n",
    "\n",
    "print(samples)\n",
    "print(\"Unique Sample IDs (SIDs):\" ,len(samples['SID'].unique()))"
   ]
  },
  {
   "cell_type": "code",
   "execution_count": null,
   "metadata": {},
   "outputs": [],
   "source": []
  }
 ],
 "metadata": {
  "kernelspec": {
   "display_name": "Python 3.9.13 ('geoprj')",
   "language": "python",
   "name": "python3"
  },
  "language_info": {
   "codemirror_mode": {
    "name": "ipython",
    "version": 3
   },
   "file_extension": ".py",
   "mimetype": "text/x-python",
   "name": "python",
   "nbconvert_exporter": "python",
   "pygments_lexer": "ipython3",
   "version": "3.9.13"
  },
  "orig_nbformat": 4,
  "vscode": {
   "interpreter": {
    "hash": "23234625f55973f7a58126a35d86facfdbb1213f4cf262be4a4984331c60271a"
   }
  }
 },
 "nbformat": 4,
 "nbformat_minor": 2
}
