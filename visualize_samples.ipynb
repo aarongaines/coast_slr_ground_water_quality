{
 "cells": [
  {
   "cell_type": "code",
   "execution_count": 2,
   "metadata": {},
   "outputs": [],
   "source": [
    "import pandas as pd\n",
    "import os\n",
    "import slr_pkg.clean_load_data as cld\n",
    "import slr_pkg.para as para\n",
    "from pathlib import Path\n",
    "\n",
    "# Get current working directory\n",
    "bp = Path(os.getcwd())\n",
    "\n",
    "dp = bp / 'data'\n",
    "\n",
    "# Set sample data directory.\n",
    "edf_path = dp / 'geotracker_edf_results'\n",
    "gama_path = dp / 'gama_results'\n",
    "\n",
    "# Set location data directory.\n",
    "geo_xy_path = dp / 'geotracker_xy'\n",
    "gama_xy_path = dp / \"gama_xy\"\n",
    "\n",
    "# Set results directory\n",
    "results_path = dp / \"results\"\n",
    "\n",
    "# Create path to mcl table.\n",
    "mcl_path = dp / 'MCLs.xlsx'\n",
    "\n",
    "# Ask for county to gather data for.\n",
    "# area = input('Enter county: ')\n",
    "area = 'Kern'\n",
    "\n",
    "# List of contaminants.\n",
    "chems = para.conts11"
   ]
  },
  {
   "cell_type": "code",
   "execution_count": 3,
   "metadata": {},
   "outputs": [],
   "source": [
    "# areas = ['Ventura','SanDiego', 'Kern', 'Imperial','SantaBarbara', 'LosAngeles']\n",
    "area = 'Kern'\n",
    "\n",
    "# List of contaminants.\n",
    "chems = para.conts11"
   ]
  },
  {
   "cell_type": "code",
   "execution_count": 4,
   "metadata": {},
   "outputs": [
    {
     "name": "stdout",
     "output_type": "stream",
     "text": [
      "Concatenating GAMA and Geotracker dataframes...\n",
      "Checking for missing values... \n"
     ]
    },
    {
     "ename": "KeyError",
     "evalue": "['WID', 'LOGDATE', 'PARLABEL', 'PARVAL']",
     "output_type": "error",
     "traceback": [
      "\u001b[1;31m---------------------------------------------------------------------------\u001b[0m",
      "\u001b[1;31mKeyError\u001b[0m                                  Traceback (most recent call last)",
      "\u001b[1;32me:\\work\\projects\\coast_slr\\scripts\\slr_ground_water_quality_\\visualize_samples.ipynb Cell 3\u001b[0m in \u001b[0;36m<cell line: 4>\u001b[1;34m()\u001b[0m\n\u001b[0;32m      <a href='vscode-notebook-cell:/e%3A/work/projects/coast_slr/scripts/slr_ground_water_quality_/visualize_samples.ipynb#ch0000002?line=0'>1</a>\u001b[0m edf_files \u001b[39m=\u001b[39m edf_path\u001b[39m.\u001b[39mglob(\u001b[39m'\u001b[39m\u001b[39m**/*\u001b[39m\u001b[39m{}\u001b[39;00m\u001b[39m*.zip\u001b[39m\u001b[39m'\u001b[39m\u001b[39m.\u001b[39mformat(area))\n\u001b[0;32m      <a href='vscode-notebook-cell:/e%3A/work/projects/coast_slr/scripts/slr_ground_water_quality_/visualize_samples.ipynb#ch0000002?line=1'>2</a>\u001b[0m gama_files \u001b[39m=\u001b[39m gama_path\u001b[39m.\u001b[39mglob(\u001b[39m'\u001b[39m\u001b[39m**/*\u001b[39m\u001b[39m{}\u001b[39;00m\u001b[39m*.zip\u001b[39m\u001b[39m'\u001b[39m\u001b[39m.\u001b[39mformat(area\u001b[39m.\u001b[39mlower()))\n\u001b[1;32m----> <a href='vscode-notebook-cell:/e%3A/work/projects/coast_slr/scripts/slr_ground_water_quality_/visualize_samples.ipynb#ch0000002?line=3'>4</a>\u001b[0m samples \u001b[39m=\u001b[39m cld\u001b[39m.\u001b[39;49mSample_Data\u001b[39m.\u001b[39;49mfull_dataset(edf_files, gama_files)\n\u001b[0;32m      <a href='vscode-notebook-cell:/e%3A/work/projects/coast_slr/scripts/slr_ground_water_quality_/visualize_samples.ipynb#ch0000002?line=5'>6</a>\u001b[0m \u001b[39mprint\u001b[39m(samples)\n\u001b[0;32m      <a href='vscode-notebook-cell:/e%3A/work/projects/coast_slr/scripts/slr_ground_water_quality_/visualize_samples.ipynb#ch0000002?line=6'>7</a>\u001b[0m \u001b[39mprint\u001b[39m(\u001b[39m\"\u001b[39m\u001b[39mUnique Sample IDs (SIDs):\u001b[39m\u001b[39m\"\u001b[39m ,\u001b[39mlen\u001b[39m(samples[\u001b[39m'\u001b[39m\u001b[39mSID\u001b[39m\u001b[39m'\u001b[39m]\u001b[39m.\u001b[39munique()))\n",
      "File \u001b[1;32me:\\work\\projects\\coast_slr\\scripts\\slr_ground_water_quality_\\slr_pkg\\clean_load_data.py:192\u001b[0m, in \u001b[0;36mSample_Data.full_dataset\u001b[1;34m(list_geotracker, list_gama)\u001b[0m\n\u001b[0;32m    188\u001b[0m     gama \u001b[39m=\u001b[39m pd\u001b[39m.\u001b[39mconcat([gama, gama_temp])\n\u001b[0;32m    191\u001b[0m \u001b[39m# Concatenate gama and geotracker dataframes.\u001b[39;00m\n\u001b[1;32m--> 192\u001b[0m samples \u001b[39m=\u001b[39m Sample_Data\u001b[39m.\u001b[39;49mconcat_samples(geo, gama)\n\u001b[0;32m    193\u001b[0m \u001b[39mreturn\u001b[39;00m samples\n",
      "File \u001b[1;32me:\\work\\projects\\coast_slr\\scripts\\slr_ground_water_quality_\\slr_pkg\\clean_load_data.py:147\u001b[0m, in \u001b[0;36mSample_Data.concat_samples\u001b[1;34m(df1, df2)\u001b[0m\n\u001b[0;32m    145\u001b[0m \u001b[39m# Drops rows with missing values in required columns.\u001b[39;00m\n\u001b[0;32m    146\u001b[0m \u001b[39mprint\u001b[39m(\u001b[39m\"\u001b[39m\u001b[39mChecking for missing values... \u001b[39m\u001b[39m\"\u001b[39m)\n\u001b[1;32m--> 147\u001b[0m samples \u001b[39m=\u001b[39m samples\u001b[39m.\u001b[39;49mdropna(subset\u001b[39m=\u001b[39;49msamples_req_cols)\n\u001b[0;32m    149\u001b[0m \u001b[39m# Set group ID with WID and LOGDATE.\u001b[39;00m\n\u001b[0;32m    150\u001b[0m \u001b[39mprint\u001b[39m(\u001b[39m\"\u001b[39m\u001b[39mCreating group ID (GID)... \u001b[39m\u001b[39m\"\u001b[39m)\n",
      "File \u001b[1;32mc:\\Users\\chief\\.conda\\envs\\geoprj\\lib\\site-packages\\pandas\\util\\_decorators.py:311\u001b[0m, in \u001b[0;36mdeprecate_nonkeyword_arguments.<locals>.decorate.<locals>.wrapper\u001b[1;34m(*args, **kwargs)\u001b[0m\n\u001b[0;32m    305\u001b[0m \u001b[39mif\u001b[39;00m \u001b[39mlen\u001b[39m(args) \u001b[39m>\u001b[39m num_allow_args:\n\u001b[0;32m    306\u001b[0m     warnings\u001b[39m.\u001b[39mwarn(\n\u001b[0;32m    307\u001b[0m         msg\u001b[39m.\u001b[39mformat(arguments\u001b[39m=\u001b[39marguments),\n\u001b[0;32m    308\u001b[0m         \u001b[39mFutureWarning\u001b[39;00m,\n\u001b[0;32m    309\u001b[0m         stacklevel\u001b[39m=\u001b[39mstacklevel,\n\u001b[0;32m    310\u001b[0m     )\n\u001b[1;32m--> 311\u001b[0m \u001b[39mreturn\u001b[39;00m func(\u001b[39m*\u001b[39margs, \u001b[39m*\u001b[39m\u001b[39m*\u001b[39mkwargs)\n",
      "File \u001b[1;32mc:\\Users\\chief\\.conda\\envs\\geoprj\\lib\\site-packages\\pandas\\core\\frame.py:5953\u001b[0m, in \u001b[0;36mDataFrame.dropna\u001b[1;34m(self, axis, how, thresh, subset, inplace)\u001b[0m\n\u001b[0;32m   5951\u001b[0m     check \u001b[39m=\u001b[39m indices \u001b[39m==\u001b[39m \u001b[39m-\u001b[39m\u001b[39m1\u001b[39m\n\u001b[0;32m   5952\u001b[0m     \u001b[39mif\u001b[39;00m check\u001b[39m.\u001b[39many():\n\u001b[1;32m-> 5953\u001b[0m         \u001b[39mraise\u001b[39;00m \u001b[39mKeyError\u001b[39;00m(\u001b[39mlist\u001b[39m(np\u001b[39m.\u001b[39mcompress(check, subset)))\n\u001b[0;32m   5954\u001b[0m     agg_obj \u001b[39m=\u001b[39m \u001b[39mself\u001b[39m\u001b[39m.\u001b[39mtake(indices, axis\u001b[39m=\u001b[39magg_axis)\n\u001b[0;32m   5956\u001b[0m count \u001b[39m=\u001b[39m agg_obj\u001b[39m.\u001b[39mcount(axis\u001b[39m=\u001b[39magg_axis)\n",
      "\u001b[1;31mKeyError\u001b[0m: ['WID', 'LOGDATE', 'PARLABEL', 'PARVAL']"
     ]
    }
   ],
   "source": [
    "edf_files = edf_path.glob('**/*{}*.zip'.format(area))\n",
    "gama_files = gama_path.glob('**/*{}*.zip'.format(area.lower()))\n",
    "\n",
    "samples = cld.Sample_Data.full_dataset(edf_files, gama_files)\n",
    "\n",
    "print(samples)\n",
    "print(\"Unique Sample IDs (SIDs):\" ,len(samples['SID'].unique()))"
   ]
  }
 ],
 "metadata": {
  "kernelspec": {
   "display_name": "Python 3.9.13 ('geoprj')",
   "language": "python",
   "name": "python3"
  },
  "language_info": {
   "codemirror_mode": {
    "name": "ipython",
    "version": 3
   },
   "file_extension": ".py",
   "mimetype": "text/x-python",
   "name": "python",
   "nbconvert_exporter": "python",
   "pygments_lexer": "ipython3",
   "version": "3.9.13"
  },
  "orig_nbformat": 4,
  "vscode": {
   "interpreter": {
    "hash": "23234625f55973f7a58126a35d86facfdbb1213f4cf262be4a4984331c60271a"
   }
  }
 },
 "nbformat": 4,
 "nbformat_minor": 2
}
